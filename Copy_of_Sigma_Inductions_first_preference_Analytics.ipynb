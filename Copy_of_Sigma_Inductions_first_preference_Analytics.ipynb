{
  "nbformat": 4,
  "nbformat_minor": 0,
  "metadata": {
    "colab": {
      "provenance": [],
      "collapsed_sections": [
        "cxNdzyk5RWxY"
      ],
      "toc_visible": true,
      "include_colab_link": true
    },
    "kernelspec": {
      "name": "python3",
      "display_name": "Python 3"
    },
    "language_info": {
      "name": "python"
    }
  },
  "cells": [
    {
      "cell_type": "markdown",
      "metadata": {
        "id": "view-in-github",
        "colab_type": "text"
      },
      "source": [
        "<a href=\"https://colab.research.google.com/github/Sai-Pranav2503/Data-Analytics-Sigma-Inductions/blob/main/Copy_of_Sigma_Inductions_first_preference_Analytics.ipynb\" target=\"_parent\"><img src=\"https://colab.research.google.com/assets/colab-badge.svg\" alt=\"Open In Colab\"/></a>"
      ]
    },
    {
      "cell_type": "markdown",
      "source": [
        "# **Getting Started with Google Colab:**\n",
        "\n",
        "The document you are reading is not a static web page, but an interactive environment called a **Colab notebook** that lets you write and execute code.\n"
      ],
      "metadata": {
        "id": "CYRdP2ChLZIg"
      }
    },
    {
      "cell_type": "markdown",
      "source": [
        "For example, here is a **code cell** with a short Python script that computes a value, stores it in a variable, and prints the result:"
      ],
      "metadata": {
        "id": "xt5dsAABLeH2"
      }
    },
    {
      "cell_type": "code",
      "source": [
        "seconds_in_a_day = 24 * 60 * 60\n",
        "seconds_in_a_day"
      ],
      "metadata": {
        "id": "R7xwhbnaMBAu"
      },
      "execution_count": null,
      "outputs": []
    },
    {
      "cell_type": "markdown",
      "source": [
        "To execute the code in the above cell, select it with a click and then either press the play button to the left of the code, or use the keyboard shortcut \"Command/Ctrl+Enter\". To edit the code, just click the cell and start editing."
      ],
      "metadata": {
        "id": "6yALpgvXMLnO"
      }
    },
    {
      "cell_type": "markdown",
      "source": [
        "Variables that you define in one cell can later be used in other cells:"
      ],
      "metadata": {
        "id": "6l2KYldQMPlu"
      }
    },
    {
      "cell_type": "code",
      "source": [
        "seconds_in_a_week = 7 * seconds_in_a_day\n",
        "seconds_in_a_week"
      ],
      "metadata": {
        "id": "dVF9RSQbMRaf"
      },
      "execution_count": null,
      "outputs": []
    },
    {
      "cell_type": "markdown",
      "source": [
        "Colab notebooks allow us to combine **executable code** and **rich text** in a single document, along with **images**, **HTML**, and more. When you create your own Colab notebooks, they are stored in your Google Drive account. You can easily share your Colab notebooks with collaborators, allowing them to comment on your notebooks or even edit them. \n",
        "- To learn more, see [Overview of Colab](/notebooks/basic_features_overview.ipynb). \n",
        "- To create a new Colab notebook you can use the File menu above, or use the following link: [create a new Colab notebook](http://colab.research.google.com#create=true).\n",
        "\n",
        "*Colab notebooks are Jupyter notebooks that are hosted by Colab. To learn more about the Jupyter project, see [jupyter.org](https://www.jupyter.org).*"
      ],
      "metadata": {
        "id": "jaVB_hXHMahP"
      }
    },
    {
      "cell_type": "markdown",
      "source": [
        "With Colab, we can harness the power of popular Python libraries to analyze, without needing to install every single one of them individually."
      ],
      "metadata": {
        "id": "8y5R11_-OJoe"
      }
    },
    {
      "cell_type": "markdown",
      "source": [
        "**Now, let us start working on a dataset and create visualizations from it**"
      ],
      "metadata": {
        "id": "8aDmENaAPQzu"
      }
    },
    {
      "cell_type": "markdown",
      "source": [
        "## **SIGMA DATA ANALYTICS TASK-1**\n",
        "\n",
        "---\n",
        "\n",
        "\n",
        "\n",
        "\n",
        "\n",
        "**1. This task is designed for the applicants with *first preference* as Data Analytics**\n",
        "\n",
        "**2. All the Questions are mandatory to attend**\n",
        "\n",
        "**3. Extra Points will be awarded for answering the Bonus Question**\n",
        "\n",
        "**4. Make a copy of this notebook (File -> Save a copy in Drive) in your own google drive and start working on it. You will not be able to save changes to this notebook as it is read only.**\n",
        "\n",
        "**5.Answer the bonus question in this colab notebook itself by creating a new text cell just below the bonus question**\n",
        "\n",
        "\n",
        "\n",
        "\n",
        "\n",
        "\n",
        "\n"
      ],
      "metadata": {
        "id": "cxNdzyk5RWxY"
      }
    },
    {
      "cell_type": "markdown",
      "source": [
        "# **Importing the data:**"
      ],
      "metadata": {
        "id": "xeicIuoSLe9V"
      }
    },
    {
      "cell_type": "code",
      "execution_count": null,
      "metadata": {
        "id": "4ZFnmnLc7v7t"
      },
      "outputs": [],
      "source": [
        "import pandas as pd\n",
        "import numpy as np\n",
        "import matplotlib.pyplot as plt\n",
        "import seaborn as sns\n",
        "import sklearn"
      ]
    },
    {
      "cell_type": "markdown",
      "source": [
        "Here we import the most commonly used Python packages/libraries and assign them to keywords for easy access;"
      ],
      "metadata": {
        "id": "rRfhtLpeJGg_"
      }
    },
    {
      "cell_type": "markdown",
      "source": [
        "If you want to know more about these packages, click the links below:\n",
        "- [Introduction to Matplotlib](https://www.geeksforgeeks.org/python-introduction-matplotlib/)\n",
        "- [Introduction to Pandas DataFrame](https://www.geeksforgeeks.org/python-pandas-dataframe/)"
      ],
      "metadata": {
        "id": "PBFlULDJLHxY"
      }
    },
    {
      "cell_type": "markdown",
      "source": [
        "**Mounting the Drive :**"
      ],
      "metadata": {
        "id": "ito3MtKBlb9E"
      }
    },
    {
      "cell_type": "markdown",
      "source": [
        "Before we can import our data, we need to mount the drive\n",
        "\n",
        "Code in the cell below can be referred to do it:"
      ],
      "metadata": {
        "id": "WNdrCrvuli4H"
      }
    },
    {
      "cell_type": "code",
      "source": [
        "from google.colab import drive\n",
        "drive.mount('/content/gdrive')"
      ],
      "metadata": {
        "id": "4CdszF4Ambe6",
        "colab": {
          "base_uri": "https://localhost:8080/"
        },
        "outputId": "50c58806-8a31-4715-e99e-dbc3f236a9af"
      },
      "execution_count": null,
      "outputs": [
        {
          "output_type": "stream",
          "name": "stdout",
          "text": [
            "Mounted at /content/gdrive\n"
          ]
        }
      ]
    },
    {
      "cell_type": "markdown",
      "source": [
        "Refer this \n",
        "[article](https://towardsdatascience.com/downloading-datasets-into-google-drive-via-google-colab-bcb1b30b0166) to get a better understanding"
      ],
      "metadata": {
        "id": "0yKMtEMjpdj_"
      }
    },
    {
      "cell_type": "markdown",
      "source": [
        "Now, we have our drive mounted to our colab. \n",
        "\n",
        "We have to upload the dataset that we want to import to the drive and copy the path and feed it to read_csv function"
      ],
      "metadata": {
        "id": "4N1XnJ3RmtmL"
      }
    },
    {
      "cell_type": "code",
      "source": [
        "df = pd.read_csv('Absenteeism_Inductions.csv')"
      ],
      "metadata": {
        "id": "w_8Kp3YVIRIA"
      },
      "execution_count": null,
      "outputs": []
    },
    {
      "cell_type": "markdown",
      "source": [
        "We create a dataframe **\"df\"**, which will contain the dataset in consideration. The file is read from the system using the **pandas** function *pd.read_csv()* as it is in a **CSV** format.\n",
        "Here inside the quotes, the address of our database will go in."
      ],
      "metadata": {
        "id": "GkXxDPVzITrA"
      }
    },
    {
      "cell_type": "markdown",
      "source": [
        " # **Data Preprocessing**\n",
        "\n",
        "Before applying Modelling to your dataset it is very important to understand and analyse your dataset. In this section we will analyse our dataset and perform data cleaning and preprocessing to achieve meaningful insights"
      ],
      "metadata": {
        "id": "0Y6_ZgnoaJB-"
      }
    },
    {
      "cell_type": "markdown",
      "source": [
        "**Import the libraries**"
      ],
      "metadata": {
        "id": "uDIHhuCCUkhS"
      }
    },
    {
      "cell_type": "code",
      "source": [
        "import pandas as pd\n",
        "import numpy as np\n",
        "import matplotlib.pyplot as plt\n",
        "import seaborn as sns\n",
        "import sklearn"
      ],
      "metadata": {
        "id": "zJPosmKOUtFl"
      },
      "execution_count": null,
      "outputs": []
    },
    {
      "cell_type": "markdown",
      "source": [
        "**Read the Absenteesim CSV file using read_csv**"
      ],
      "metadata": {
        "id": "vjWRodQPUtez"
      }
    },
    {
      "cell_type": "code",
      "source": [
        "df = pd.read_csv('Absenteeism_Inductions.csv')\n",
        "df"
      ],
      "metadata": {
        "id": "WfGC2JmibdVn",
        "colab": {
          "base_uri": "https://localhost:8080/",
          "height": 485
        },
        "outputId": "dbb842f6-ea6a-408b-e7ef-970d964e1a7f"
      },
      "execution_count": null,
      "outputs": [
        {
          "output_type": "execute_result",
          "data": {
            "text/plain": [
              "     ID  Month of absence  Day of the week Seasons  Transportation expense  \\\n",
              "0    11                 7                3  Spring                     289   \n",
              "1    36                 7                3  Spring                     118   \n",
              "2     3                 7                4  Spring                     179   \n",
              "3     7                 7                5  Spring                     279   \n",
              "4    11                 7                5  Spring                     289   \n",
              "..   ..               ...              ...     ...                     ...   \n",
              "735  11                 7                3  Spring                     289   \n",
              "736   1                 7                3  Spring                     235   \n",
              "737   4                 0                3  Spring                     118   \n",
              "738   8                 0                4  Summer                     231   \n",
              "739  35                 0                6  Autumn                     179   \n",
              "\n",
              "     Distance from Residence to College  Weight  Height  Body mass index  \\\n",
              "0                                  36.0      90     172               30   \n",
              "1                                  13.0      98     178               31   \n",
              "2                                  51.0      89     170               31   \n",
              "3                                   5.0      68     168               24   \n",
              "4                                  36.0      90     172               30   \n",
              "..                                  ...     ...     ...              ...   \n",
              "735                                36.0      90     172               30   \n",
              "736                                11.0      88     172               29   \n",
              "737                                14.0      98     170               34   \n",
              "738                                35.0     100     170               35   \n",
              "739                                45.0      77     175               25   \n",
              "\n",
              "     Absenteeism time in hours  \n",
              "0                            4  \n",
              "1                            0  \n",
              "2                            2  \n",
              "3                            4  \n",
              "4                            2  \n",
              "..                         ...  \n",
              "735                          8  \n",
              "736                          4  \n",
              "737                          0  \n",
              "738                          0  \n",
              "739                          0  \n",
              "\n",
              "[740 rows x 10 columns]"
            ],
            "text/html": [
              "\n",
              "  <div id=\"df-dea70a9b-776a-42d6-91f7-cf0a3e1c4550\">\n",
              "    <div class=\"colab-df-container\">\n",
              "      <div>\n",
              "<style scoped>\n",
              "    .dataframe tbody tr th:only-of-type {\n",
              "        vertical-align: middle;\n",
              "    }\n",
              "\n",
              "    .dataframe tbody tr th {\n",
              "        vertical-align: top;\n",
              "    }\n",
              "\n",
              "    .dataframe thead th {\n",
              "        text-align: right;\n",
              "    }\n",
              "</style>\n",
              "<table border=\"1\" class=\"dataframe\">\n",
              "  <thead>\n",
              "    <tr style=\"text-align: right;\">\n",
              "      <th></th>\n",
              "      <th>ID</th>\n",
              "      <th>Month of absence</th>\n",
              "      <th>Day of the week</th>\n",
              "      <th>Seasons</th>\n",
              "      <th>Transportation expense</th>\n",
              "      <th>Distance from Residence to College</th>\n",
              "      <th>Weight</th>\n",
              "      <th>Height</th>\n",
              "      <th>Body mass index</th>\n",
              "      <th>Absenteeism time in hours</th>\n",
              "    </tr>\n",
              "  </thead>\n",
              "  <tbody>\n",
              "    <tr>\n",
              "      <th>0</th>\n",
              "      <td>11</td>\n",
              "      <td>7</td>\n",
              "      <td>3</td>\n",
              "      <td>Spring</td>\n",
              "      <td>289</td>\n",
              "      <td>36.0</td>\n",
              "      <td>90</td>\n",
              "      <td>172</td>\n",
              "      <td>30</td>\n",
              "      <td>4</td>\n",
              "    </tr>\n",
              "    <tr>\n",
              "      <th>1</th>\n",
              "      <td>36</td>\n",
              "      <td>7</td>\n",
              "      <td>3</td>\n",
              "      <td>Spring</td>\n",
              "      <td>118</td>\n",
              "      <td>13.0</td>\n",
              "      <td>98</td>\n",
              "      <td>178</td>\n",
              "      <td>31</td>\n",
              "      <td>0</td>\n",
              "    </tr>\n",
              "    <tr>\n",
              "      <th>2</th>\n",
              "      <td>3</td>\n",
              "      <td>7</td>\n",
              "      <td>4</td>\n",
              "      <td>Spring</td>\n",
              "      <td>179</td>\n",
              "      <td>51.0</td>\n",
              "      <td>89</td>\n",
              "      <td>170</td>\n",
              "      <td>31</td>\n",
              "      <td>2</td>\n",
              "    </tr>\n",
              "    <tr>\n",
              "      <th>3</th>\n",
              "      <td>7</td>\n",
              "      <td>7</td>\n",
              "      <td>5</td>\n",
              "      <td>Spring</td>\n",
              "      <td>279</td>\n",
              "      <td>5.0</td>\n",
              "      <td>68</td>\n",
              "      <td>168</td>\n",
              "      <td>24</td>\n",
              "      <td>4</td>\n",
              "    </tr>\n",
              "    <tr>\n",
              "      <th>4</th>\n",
              "      <td>11</td>\n",
              "      <td>7</td>\n",
              "      <td>5</td>\n",
              "      <td>Spring</td>\n",
              "      <td>289</td>\n",
              "      <td>36.0</td>\n",
              "      <td>90</td>\n",
              "      <td>172</td>\n",
              "      <td>30</td>\n",
              "      <td>2</td>\n",
              "    </tr>\n",
              "    <tr>\n",
              "      <th>...</th>\n",
              "      <td>...</td>\n",
              "      <td>...</td>\n",
              "      <td>...</td>\n",
              "      <td>...</td>\n",
              "      <td>...</td>\n",
              "      <td>...</td>\n",
              "      <td>...</td>\n",
              "      <td>...</td>\n",
              "      <td>...</td>\n",
              "      <td>...</td>\n",
              "    </tr>\n",
              "    <tr>\n",
              "      <th>735</th>\n",
              "      <td>11</td>\n",
              "      <td>7</td>\n",
              "      <td>3</td>\n",
              "      <td>Spring</td>\n",
              "      <td>289</td>\n",
              "      <td>36.0</td>\n",
              "      <td>90</td>\n",
              "      <td>172</td>\n",
              "      <td>30</td>\n",
              "      <td>8</td>\n",
              "    </tr>\n",
              "    <tr>\n",
              "      <th>736</th>\n",
              "      <td>1</td>\n",
              "      <td>7</td>\n",
              "      <td>3</td>\n",
              "      <td>Spring</td>\n",
              "      <td>235</td>\n",
              "      <td>11.0</td>\n",
              "      <td>88</td>\n",
              "      <td>172</td>\n",
              "      <td>29</td>\n",
              "      <td>4</td>\n",
              "    </tr>\n",
              "    <tr>\n",
              "      <th>737</th>\n",
              "      <td>4</td>\n",
              "      <td>0</td>\n",
              "      <td>3</td>\n",
              "      <td>Spring</td>\n",
              "      <td>118</td>\n",
              "      <td>14.0</td>\n",
              "      <td>98</td>\n",
              "      <td>170</td>\n",
              "      <td>34</td>\n",
              "      <td>0</td>\n",
              "    </tr>\n",
              "    <tr>\n",
              "      <th>738</th>\n",
              "      <td>8</td>\n",
              "      <td>0</td>\n",
              "      <td>4</td>\n",
              "      <td>Summer</td>\n",
              "      <td>231</td>\n",
              "      <td>35.0</td>\n",
              "      <td>100</td>\n",
              "      <td>170</td>\n",
              "      <td>35</td>\n",
              "      <td>0</td>\n",
              "    </tr>\n",
              "    <tr>\n",
              "      <th>739</th>\n",
              "      <td>35</td>\n",
              "      <td>0</td>\n",
              "      <td>6</td>\n",
              "      <td>Autumn</td>\n",
              "      <td>179</td>\n",
              "      <td>45.0</td>\n",
              "      <td>77</td>\n",
              "      <td>175</td>\n",
              "      <td>25</td>\n",
              "      <td>0</td>\n",
              "    </tr>\n",
              "  </tbody>\n",
              "</table>\n",
              "<p>740 rows × 10 columns</p>\n",
              "</div>\n",
              "      <button class=\"colab-df-convert\" onclick=\"convertToInteractive('df-dea70a9b-776a-42d6-91f7-cf0a3e1c4550')\"\n",
              "              title=\"Convert this dataframe to an interactive table.\"\n",
              "              style=\"display:none;\">\n",
              "        \n",
              "  <svg xmlns=\"http://www.w3.org/2000/svg\" height=\"24px\"viewBox=\"0 0 24 24\"\n",
              "       width=\"24px\">\n",
              "    <path d=\"M0 0h24v24H0V0z\" fill=\"none\"/>\n",
              "    <path d=\"M18.56 5.44l.94 2.06.94-2.06 2.06-.94-2.06-.94-.94-2.06-.94 2.06-2.06.94zm-11 1L8.5 8.5l.94-2.06 2.06-.94-2.06-.94L8.5 2.5l-.94 2.06-2.06.94zm10 10l.94 2.06.94-2.06 2.06-.94-2.06-.94-.94-2.06-.94 2.06-2.06.94z\"/><path d=\"M17.41 7.96l-1.37-1.37c-.4-.4-.92-.59-1.43-.59-.52 0-1.04.2-1.43.59L10.3 9.45l-7.72 7.72c-.78.78-.78 2.05 0 2.83L4 21.41c.39.39.9.59 1.41.59.51 0 1.02-.2 1.41-.59l7.78-7.78 2.81-2.81c.8-.78.8-2.07 0-2.86zM5.41 20L4 18.59l7.72-7.72 1.47 1.35L5.41 20z\"/>\n",
              "  </svg>\n",
              "      </button>\n",
              "      \n",
              "  <style>\n",
              "    .colab-df-container {\n",
              "      display:flex;\n",
              "      flex-wrap:wrap;\n",
              "      gap: 12px;\n",
              "    }\n",
              "\n",
              "    .colab-df-convert {\n",
              "      background-color: #E8F0FE;\n",
              "      border: none;\n",
              "      border-radius: 50%;\n",
              "      cursor: pointer;\n",
              "      display: none;\n",
              "      fill: #1967D2;\n",
              "      height: 32px;\n",
              "      padding: 0 0 0 0;\n",
              "      width: 32px;\n",
              "    }\n",
              "\n",
              "    .colab-df-convert:hover {\n",
              "      background-color: #E2EBFA;\n",
              "      box-shadow: 0px 1px 2px rgba(60, 64, 67, 0.3), 0px 1px 3px 1px rgba(60, 64, 67, 0.15);\n",
              "      fill: #174EA6;\n",
              "    }\n",
              "\n",
              "    [theme=dark] .colab-df-convert {\n",
              "      background-color: #3B4455;\n",
              "      fill: #D2E3FC;\n",
              "    }\n",
              "\n",
              "    [theme=dark] .colab-df-convert:hover {\n",
              "      background-color: #434B5C;\n",
              "      box-shadow: 0px 1px 3px 1px rgba(0, 0, 0, 0.15);\n",
              "      filter: drop-shadow(0px 1px 2px rgba(0, 0, 0, 0.3));\n",
              "      fill: #FFFFFF;\n",
              "    }\n",
              "  </style>\n",
              "\n",
              "      <script>\n",
              "        const buttonEl =\n",
              "          document.querySelector('#df-dea70a9b-776a-42d6-91f7-cf0a3e1c4550 button.colab-df-convert');\n",
              "        buttonEl.style.display =\n",
              "          google.colab.kernel.accessAllowed ? 'block' : 'none';\n",
              "\n",
              "        async function convertToInteractive(key) {\n",
              "          const element = document.querySelector('#df-dea70a9b-776a-42d6-91f7-cf0a3e1c4550');\n",
              "          const dataTable =\n",
              "            await google.colab.kernel.invokeFunction('convertToInteractive',\n",
              "                                                     [key], {});\n",
              "          if (!dataTable) return;\n",
              "\n",
              "          const docLinkHtml = 'Like what you see? Visit the ' +\n",
              "            '<a target=\"_blank\" href=https://colab.research.google.com/notebooks/data_table.ipynb>data table notebook</a>'\n",
              "            + ' to learn more about interactive tables.';\n",
              "          element.innerHTML = '';\n",
              "          dataTable['output_type'] = 'display_data';\n",
              "          await google.colab.output.renderOutput(dataTable, element);\n",
              "          const docLink = document.createElement('div');\n",
              "          docLink.innerHTML = docLinkHtml;\n",
              "          element.appendChild(docLink);\n",
              "        }\n",
              "      </script>\n",
              "    </div>\n",
              "  </div>\n",
              "  "
            ]
          },
          "metadata": {},
          "execution_count": 41
        }
      ]
    },
    {
      "cell_type": "markdown",
      "source": [
        "**print all the column names and datatype of each column in the dataframe** "
      ],
      "metadata": {
        "id": "n1lfMxYBgHbL"
      }
    },
    {
      "cell_type": "code",
      "source": [
        "df.dtypes"
      ],
      "metadata": {
        "id": "A_x7KPbkbR5Y",
        "colab": {
          "base_uri": "https://localhost:8080/"
        },
        "outputId": "c65401a1-b44f-4710-f161-4e976267cebb"
      },
      "execution_count": null,
      "outputs": [
        {
          "output_type": "execute_result",
          "data": {
            "text/plain": [
              "ID                                      int64\n",
              "Month of absence                        int64\n",
              "Day of the week                         int64\n",
              "Seasons                                object\n",
              "Transportation expense                  int64\n",
              "Distance from Residence to College    float64\n",
              "Weight                                  int64\n",
              "Height                                  int64\n",
              "Body mass index                         int64\n",
              "Absenteeism time in hours               int64\n",
              "dtype: object"
            ]
          },
          "metadata": {},
          "execution_count": 42
        }
      ]
    },
    {
      "cell_type": "markdown",
      "source": [
        "**Print the average height and maximum weight of the students**"
      ],
      "metadata": {
        "id": "c4hZCu1OgVuX"
      }
    },
    {
      "cell_type": "code",
      "source": [
        "max_w=df['Weight'].max()\n",
        "avg_h=df['Height'].mean()\n",
        "print(\"Max Weight =\", max_w, \"and Avg Height =\", avg_h)"
      ],
      "metadata": {
        "id": "pYhZNjc2cpx3",
        "colab": {
          "base_uri": "https://localhost:8080/"
        },
        "outputId": "627c0e17-3fe3-4e6f-be44-1cf6aa28ebf2"
      },
      "execution_count": null,
      "outputs": [
        {
          "output_type": "stream",
          "name": "stdout",
          "text": [
            "Max Weight = 108 and Avg Height = 172.11486486486487\n"
          ]
        }
      ]
    },
    {
      "cell_type": "markdown",
      "source": [
        "**Print the frequency of Absentees in each month** "
      ],
      "metadata": {
        "id": "Xtc03kE9gbL0"
      }
    },
    {
      "cell_type": "code",
      "source": [
        " #Hint:You can use value_counts() to find students absent in each month\n",
        "m=df['Month of absence'].value_counts()\n",
        "m"
      ],
      "metadata": {
        "id": "OlM_7CqycBy8",
        "colab": {
          "base_uri": "https://localhost:8080/"
        },
        "outputId": "e93f825c-856c-4e60-97d7-1aeed2f176bd"
      },
      "execution_count": null,
      "outputs": [
        {
          "output_type": "execute_result",
          "data": {
            "text/plain": [
              "3     87\n",
              "2     72\n",
              "10    71\n",
              "7     67\n",
              "5     64\n",
              "11    63\n",
              "8     54\n",
              "6     54\n",
              "9     53\n",
              "4     53\n",
              "1     50\n",
              "12    49\n",
              "0      3\n",
              "Name: Month of absence, dtype: int64"
            ]
          },
          "metadata": {},
          "execution_count": 44
        }
      ]
    },
    {
      "cell_type": "markdown",
      "source": [
        "**Print the days in which no of Absentees exceed 150**"
      ],
      "metadata": {
        "id": "sbZhgBG4gmA3"
      }
    },
    {
      "cell_type": "code",
      "source": [
        "l=[0, 0, 0, 0, 0]\n",
        "for i in df['Day of the week']:\n",
        "   l[i-2]+=1\n",
        "l2=['Monday', 'Tuesday', 'Wednesday', 'Thursday', 'Friday']\n",
        "for i in range(0, 5):\n",
        "  if l[i]>150:\n",
        "    print(\"Number of absentees exceeds 150 in\", l2[i],\"and is equal to\", l[i] )"
      ],
      "metadata": {
        "id": "Phn9hMrtb7aK",
        "colab": {
          "base_uri": "https://localhost:8080/"
        },
        "outputId": "c049c5ba-cbb7-4ba1-a123-2694b7d66857"
      },
      "execution_count": null,
      "outputs": [
        {
          "output_type": "stream",
          "name": "stdout",
          "text": [
            "Number of absentees exceeds 150 in Monday and is equal to 161\n",
            "Number of absentees exceeds 150 in Tuesday and is equal to 154\n",
            "Number of absentees exceeds 150 in Wednesday and is equal to 156\n"
          ]
        }
      ]
    },
    {
      "cell_type": "markdown",
      "source": [
        "**Print absentees with more than 10 hrs of absenteeism in december**"
      ],
      "metadata": {
        "id": "OjVzFGxJkgS5"
      }
    },
    {
      "cell_type": "code",
      "source": [
        "df[(df['Absenteeism time in hours'] > 10) & (df['Month of absence']==12)]"
      ],
      "metadata": {
        "id": "PAl5zddokkeB",
        "colab": {
          "base_uri": "https://localhost:8080/",
          "height": 267
        },
        "outputId": "6f444808-7b22-494c-e7c1-0dff2af666cd"
      },
      "execution_count": null,
      "outputs": [
        {
          "output_type": "execute_result",
          "data": {
            "text/plain": [
              "     ID  Month of absence  Day of the week Seasons  Transportation expense  \\\n",
              "99   34                12                3  Winter                     118   \n",
              "104  34                12                3  Winter                     118   \n",
              "555   3                12                3  Winter                     179   \n",
              "565  22                12                3  Winter                     179   \n",
              "569  14                12                3  Summer                     155   \n",
              "\n",
              "     Distance from Residence to College  Weight  Height  Body mass index  \\\n",
              "99                                 10.0      83     172               28   \n",
              "104                                10.0      83     172               28   \n",
              "555                                 NaN      89     170               31   \n",
              "565                                26.0      56     171               19   \n",
              "569                                12.0      95     196               25   \n",
              "\n",
              "     Absenteeism time in hours  \n",
              "99                          64  \n",
              "104                         56  \n",
              "555                         32  \n",
              "565                         16  \n",
              "569                         80  "
            ],
            "text/html": [
              "\n",
              "  <div id=\"df-c811cf1d-d190-4ba8-82e2-177bca8d0d11\">\n",
              "    <div class=\"colab-df-container\">\n",
              "      <div>\n",
              "<style scoped>\n",
              "    .dataframe tbody tr th:only-of-type {\n",
              "        vertical-align: middle;\n",
              "    }\n",
              "\n",
              "    .dataframe tbody tr th {\n",
              "        vertical-align: top;\n",
              "    }\n",
              "\n",
              "    .dataframe thead th {\n",
              "        text-align: right;\n",
              "    }\n",
              "</style>\n",
              "<table border=\"1\" class=\"dataframe\">\n",
              "  <thead>\n",
              "    <tr style=\"text-align: right;\">\n",
              "      <th></th>\n",
              "      <th>ID</th>\n",
              "      <th>Month of absence</th>\n",
              "      <th>Day of the week</th>\n",
              "      <th>Seasons</th>\n",
              "      <th>Transportation expense</th>\n",
              "      <th>Distance from Residence to College</th>\n",
              "      <th>Weight</th>\n",
              "      <th>Height</th>\n",
              "      <th>Body mass index</th>\n",
              "      <th>Absenteeism time in hours</th>\n",
              "    </tr>\n",
              "  </thead>\n",
              "  <tbody>\n",
              "    <tr>\n",
              "      <th>99</th>\n",
              "      <td>34</td>\n",
              "      <td>12</td>\n",
              "      <td>3</td>\n",
              "      <td>Winter</td>\n",
              "      <td>118</td>\n",
              "      <td>10.0</td>\n",
              "      <td>83</td>\n",
              "      <td>172</td>\n",
              "      <td>28</td>\n",
              "      <td>64</td>\n",
              "    </tr>\n",
              "    <tr>\n",
              "      <th>104</th>\n",
              "      <td>34</td>\n",
              "      <td>12</td>\n",
              "      <td>3</td>\n",
              "      <td>Winter</td>\n",
              "      <td>118</td>\n",
              "      <td>10.0</td>\n",
              "      <td>83</td>\n",
              "      <td>172</td>\n",
              "      <td>28</td>\n",
              "      <td>56</td>\n",
              "    </tr>\n",
              "    <tr>\n",
              "      <th>555</th>\n",
              "      <td>3</td>\n",
              "      <td>12</td>\n",
              "      <td>3</td>\n",
              "      <td>Winter</td>\n",
              "      <td>179</td>\n",
              "      <td>NaN</td>\n",
              "      <td>89</td>\n",
              "      <td>170</td>\n",
              "      <td>31</td>\n",
              "      <td>32</td>\n",
              "    </tr>\n",
              "    <tr>\n",
              "      <th>565</th>\n",
              "      <td>22</td>\n",
              "      <td>12</td>\n",
              "      <td>3</td>\n",
              "      <td>Winter</td>\n",
              "      <td>179</td>\n",
              "      <td>26.0</td>\n",
              "      <td>56</td>\n",
              "      <td>171</td>\n",
              "      <td>19</td>\n",
              "      <td>16</td>\n",
              "    </tr>\n",
              "    <tr>\n",
              "      <th>569</th>\n",
              "      <td>14</td>\n",
              "      <td>12</td>\n",
              "      <td>3</td>\n",
              "      <td>Summer</td>\n",
              "      <td>155</td>\n",
              "      <td>12.0</td>\n",
              "      <td>95</td>\n",
              "      <td>196</td>\n",
              "      <td>25</td>\n",
              "      <td>80</td>\n",
              "    </tr>\n",
              "  </tbody>\n",
              "</table>\n",
              "</div>\n",
              "      <button class=\"colab-df-convert\" onclick=\"convertToInteractive('df-c811cf1d-d190-4ba8-82e2-177bca8d0d11')\"\n",
              "              title=\"Convert this dataframe to an interactive table.\"\n",
              "              style=\"display:none;\">\n",
              "        \n",
              "  <svg xmlns=\"http://www.w3.org/2000/svg\" height=\"24px\"viewBox=\"0 0 24 24\"\n",
              "       width=\"24px\">\n",
              "    <path d=\"M0 0h24v24H0V0z\" fill=\"none\"/>\n",
              "    <path d=\"M18.56 5.44l.94 2.06.94-2.06 2.06-.94-2.06-.94-.94-2.06-.94 2.06-2.06.94zm-11 1L8.5 8.5l.94-2.06 2.06-.94-2.06-.94L8.5 2.5l-.94 2.06-2.06.94zm10 10l.94 2.06.94-2.06 2.06-.94-2.06-.94-.94-2.06-.94 2.06-2.06.94z\"/><path d=\"M17.41 7.96l-1.37-1.37c-.4-.4-.92-.59-1.43-.59-.52 0-1.04.2-1.43.59L10.3 9.45l-7.72 7.72c-.78.78-.78 2.05 0 2.83L4 21.41c.39.39.9.59 1.41.59.51 0 1.02-.2 1.41-.59l7.78-7.78 2.81-2.81c.8-.78.8-2.07 0-2.86zM5.41 20L4 18.59l7.72-7.72 1.47 1.35L5.41 20z\"/>\n",
              "  </svg>\n",
              "      </button>\n",
              "      \n",
              "  <style>\n",
              "    .colab-df-container {\n",
              "      display:flex;\n",
              "      flex-wrap:wrap;\n",
              "      gap: 12px;\n",
              "    }\n",
              "\n",
              "    .colab-df-convert {\n",
              "      background-color: #E8F0FE;\n",
              "      border: none;\n",
              "      border-radius: 50%;\n",
              "      cursor: pointer;\n",
              "      display: none;\n",
              "      fill: #1967D2;\n",
              "      height: 32px;\n",
              "      padding: 0 0 0 0;\n",
              "      width: 32px;\n",
              "    }\n",
              "\n",
              "    .colab-df-convert:hover {\n",
              "      background-color: #E2EBFA;\n",
              "      box-shadow: 0px 1px 2px rgba(60, 64, 67, 0.3), 0px 1px 3px 1px rgba(60, 64, 67, 0.15);\n",
              "      fill: #174EA6;\n",
              "    }\n",
              "\n",
              "    [theme=dark] .colab-df-convert {\n",
              "      background-color: #3B4455;\n",
              "      fill: #D2E3FC;\n",
              "    }\n",
              "\n",
              "    [theme=dark] .colab-df-convert:hover {\n",
              "      background-color: #434B5C;\n",
              "      box-shadow: 0px 1px 3px 1px rgba(0, 0, 0, 0.15);\n",
              "      filter: drop-shadow(0px 1px 2px rgba(0, 0, 0, 0.3));\n",
              "      fill: #FFFFFF;\n",
              "    }\n",
              "  </style>\n",
              "\n",
              "      <script>\n",
              "        const buttonEl =\n",
              "          document.querySelector('#df-c811cf1d-d190-4ba8-82e2-177bca8d0d11 button.colab-df-convert');\n",
              "        buttonEl.style.display =\n",
              "          google.colab.kernel.accessAllowed ? 'block' : 'none';\n",
              "\n",
              "        async function convertToInteractive(key) {\n",
              "          const element = document.querySelector('#df-c811cf1d-d190-4ba8-82e2-177bca8d0d11');\n",
              "          const dataTable =\n",
              "            await google.colab.kernel.invokeFunction('convertToInteractive',\n",
              "                                                     [key], {});\n",
              "          if (!dataTable) return;\n",
              "\n",
              "          const docLinkHtml = 'Like what you see? Visit the ' +\n",
              "            '<a target=\"_blank\" href=https://colab.research.google.com/notebooks/data_table.ipynb>data table notebook</a>'\n",
              "            + ' to learn more about interactive tables.';\n",
              "          element.innerHTML = '';\n",
              "          dataTable['output_type'] = 'display_data';\n",
              "          await google.colab.output.renderOutput(dataTable, element);\n",
              "          const docLink = document.createElement('div');\n",
              "          docLink.innerHTML = docLinkHtml;\n",
              "          element.appendChild(docLink);\n",
              "        }\n",
              "      </script>\n",
              "    </div>\n",
              "  </div>\n",
              "  "
            ]
          },
          "metadata": {},
          "execution_count": 46
        }
      ]
    },
    {
      "cell_type": "markdown",
      "source": [
        "**Print the number of missing values in each column**"
      ],
      "metadata": {
        "id": "quUv7SrbHTd7"
      }
    },
    {
      "cell_type": "code",
      "source": [
        "print(\"Number of missing values in each column of the dataframe:\")\n",
        "print(df.isna().sum())"
      ],
      "metadata": {
        "id": "sKEpxKQsHXTT",
        "colab": {
          "base_uri": "https://localhost:8080/"
        },
        "outputId": "f3ff1d29-b0c2-4000-c6a5-23970a3fe76b"
      },
      "execution_count": null,
      "outputs": [
        {
          "output_type": "stream",
          "name": "stdout",
          "text": [
            "Number of missing values in each column of the dataframe:\n",
            "ID                                     0\n",
            "Month of absence                       0\n",
            "Day of the week                        0\n",
            "Seasons                                0\n",
            "Transportation expense                 0\n",
            "Distance from Residence to College    54\n",
            "Weight                                 0\n",
            "Height                                 0\n",
            "Body mass index                        0\n",
            "Absenteeism time in hours              0\n",
            "dtype: int64\n"
          ]
        }
      ]
    },
    {
      "cell_type": "markdown",
      "source": [
        "**Fill the missing values using the SimpleImputer() method**"
      ],
      "metadata": {
        "id": "XP2jdMrIgpj-"
      }
    },
    {
      "cell_type": "code",
      "source": [
        "#NOTE: You can use either mean or median as the strategy depending on your own intution\n",
        "from sklearn.impute import SimpleImputer\n",
        "imputer = SimpleImputer(strategy='median', missing_values=np.nan)\n",
        "imputer = imputer.fit(df[['Distance from Residence to College']])\n",
        "df['Distance from Residence to College'] = imputer.transform(df[['Distance from Residence to College']])"
      ],
      "metadata": {
        "id": "DzTYELtOcZy3"
      },
      "execution_count": null,
      "outputs": []
    },
    {
      "cell_type": "markdown",
      "source": [
        "**Convert Seasonal column to Categorical data**\n",
        "**Assign 1-Spring**\n",
        "       **2-Summer**\n",
        "       **3-Autumn**\n",
        "       **4-Winter**"
      ],
      "metadata": {
        "id": "8Bj0Pvx4g7ru"
      }
    },
    {
      "cell_type": "code",
      "source": [
        "df['Seasons']=df['Seasons'].replace(['Spring', 'Summer', 'Autumn', 'Winter'], [1, 2, 3, 4])\n",
        "df['Seasons']=df.Seasons.astype('category')"
      ],
      "metadata": {
        "id": "lXVKRzCOdw2e"
      },
      "execution_count": null,
      "outputs": []
    },
    {
      "cell_type": "markdown",
      "source": [
        "# **Data Visualization**\n",
        "\n",
        "In this section, we will be analyzing our dataset by plotting various graphs and plots. Later on, we will try implementing and fitting our first Machine Learning Model- Linear Regression \n",
        "\n",
        "**Reference Articles:**\n",
        "1. https://www.analyticsvidhya.com/blog/2021/07/data-visualization-using-seaborn-for-beginners/\n",
        "2. https://seaborn.pydata.org/generated/seaborn.heatmap.html"
      ],
      "metadata": {
        "id": "OlmyRGSarubm"
      }
    },
    {
      "cell_type": "markdown",
      "source": [
        "**Q1. Using Seaborn or Matplotlib, plot a barplot between the Absenteeism time in hours and the day of the week.**\n",
        "\n"
      ],
      "metadata": {
        "id": "6adgxREQsSBi"
      }
    },
    {
      "cell_type": "code",
      "source": [
        "sns.set()\n",
        "plt.title('Barplot with given df', fontsize='14', color='g')\n",
        "plt.bar(df['Day of the week'], df['Absenteeism time in hours'])\n",
        "plt.xlabel('Day of the week')\n",
        "plt.ylabel('Absenteeism time in hours')"
      ],
      "metadata": {
        "colab": {
          "base_uri": "https://localhost:8080/",
          "height": 319
        },
        "id": "WFtsXA0-Dt53",
        "outputId": "cca8e210-fa04-43ba-a612-affada99cbda"
      },
      "execution_count": null,
      "outputs": [
        {
          "output_type": "execute_result",
          "data": {
            "text/plain": [
              "Text(0, 0.5, 'Absenteeism time in hours')"
            ]
          },
          "metadata": {},
          "execution_count": 67
        },
        {
          "output_type": "display_data",
          "data": {
            "text/plain": [
              "<Figure size 432x288 with 1 Axes>"
            ],
            "image/png": "[encoded data removed]"
          },
          "metadata": {}
        }
      ]
    },
    {
      "cell_type": "markdown",
      "source": [
        "Q1.1 What are the black lines at the top of each bar. What do they signify? How can we remove it?\n",
        "Plot the same graph without the black lines at the top."
      ],
      "metadata": {
        "id": "TviPsBWbsY9k"
      }
    },
    {
      "cell_type": "markdown",
      "source": [
        "We don't get any such black lines on top of the bar graph on plotting the bar graph using Pyplot."
      ],
      "metadata": {
        "id": "k6l2HwF-oYsS"
      }
    },
    {
      "cell_type": "code",
      "source": [],
      "metadata": {
        "id": "Q_ftTfGNsk3v"
      },
      "execution_count": null,
      "outputs": []
    },
    {
      "cell_type": "markdown",
      "source": [
        "**Q2. Plot a heatmap which shows the correlation between all the features.**"
      ],
      "metadata": {
        "id": "Hvx1VV3jsegG"
      }
    },
    {
      "cell_type": "code",
      "source": [
        "sns.heatmap(df.corr())"
      ],
      "metadata": {
        "id": "3rju7wb-souL",
        "colab": {
          "base_uri": "https://localhost:8080/",
          "height": 476
        },
        "outputId": "e85e0fdf-5519-435c-e430-cb084b3a5cc7"
      },
      "execution_count": null,
      "outputs": [
        {
          "output_type": "execute_result",
          "data": {
            "text/plain": [
              "<matplotlib.axes._subplots.AxesSubplot at 0x7fc32805c790>"
            ]
          },
          "metadata": {},
          "execution_count": 91
        },
        {
          "output_type": "display_data",
          "data": {
            "text/plain": [
              "<Figure size 432x288 with 2 Axes>"
            ],
            "image/png": "[encoded data removed]"
          },
          "metadata": {}
        }
      ]
    },
    {
      "cell_type": "markdown",
      "source": [
        "**Q2.1 What can we interpret from the heatmap? What does correlation between features mean and how many types of correlation are there?**\n",
        "\n",
        "\n",
        "**BONUS Question:** Is there a way to write the correlation number on each cell of the heatmap? And since the heatmap looks clumsy, is there a way by which we can change the dimensions of the graph? \n",
        "Plot the heatmap again with these changes.\n"
      ],
      "metadata": {
        "id": "EK5H5h5mspL5"
      }
    },
    {
      "cell_type": "markdown",
      "source": [
        "We can interpret about correlations between different parameters  and about how different variables' values are related or how they change with respect to each other, using the heatmap. Correlation basically means like how related 2 parameters or variables are. We measure that by few numbers called correlation coefficients. To plot heatmap, we use Pearson correlation coefficients. There are 3 types of correlations: positive, negative and zero correlation. Positive Correlation – when the values of the two variables move in the same direction so that an increase/decrease in the value of one variable is followed by an increase/decrease in the value of the other variable. Negative Correlation – when the values of the two variables move in the opposite direction so that an increase/decrease in the value of one variable is followed by decrease/increase in the value of the other variable. Zero Correlation – when there is no linear dependence or no relation between the two variables. The more closer a correlation coefficient is to 1, it's a more stronger positive correlation coefficient. Same case for -1, more closer to -1 means it is a more stronger negative correlation."
      ],
      "metadata": {
        "id": "_DcyD_8Yi589"
      }
    },
    {
      "cell_type": "markdown",
      "source": [
        "Yeah, we can plot a heatmap with the correlation coefficients on each cell of heatmap and we can also change the dimensions of the heatmap. Here, I have changed the colour to red and blue where red is for negative correlation and blue is for positive. Zero correlations are white in colour. This makes the heatmap more clear. I have also changed the font of the values to bold, have made lines between every 2 cells with black as colour of the separating line for a better look."
      ],
      "metadata": {
        "id": "l5xS0lpBnR6O"
      }
    },
    {
      "cell_type": "code",
      "source": [
        "fig, ax = plt.subplots(figsize=(10,10)) #Increasing the size of heatmap\n",
        "sns.heatmap(df.corr(), center=0, cmap=\"RdBu\", vmax=1, vmin=-1, annot=True, fmt=\".2f\", annot_kws={'fontweight': 'bold'}, linewidth=3, linecolor='black', square=True)\n"
      ],
      "metadata": {
        "id": "MlE5yYb-swUD",
        "colab": {
          "base_uri": "https://localhost:8080/",
          "height": 754
        },
        "outputId": "03a5d753-19d8-4e58-8598-f7d9bf0a04d0"
      },
      "execution_count": null,
      "outputs": [
        {
          "output_type": "execute_result",
          "data": {
            "text/plain": [
              "<matplotlib.axes._subplots.AxesSubplot at 0x7fc327ce4c50>"
            ]
          },
          "metadata": {},
          "execution_count": 94
        },
        {
          "output_type": "display_data",
          "data": {
            "text/plain": [
              "<Figure size 720x720 with 2 Axes>"
            ],
            "image/png": "[encoded data removed]"
          },
          "metadata": {}
        }
      ]
    },
    {
      "cell_type": "markdown",
      "source": [
        "#**Modelling**\n",
        "In this section, we will implementing our first model- Linear Regression! After learning about correlations and plotting the same on the heatmap, it is time we choose the most relevant features for our analysis.\n",
        "\n",
        "**Reference Articles:**\n",
        "1. https://pandas.pydata.org/docs/reference/api/pandas.DataFrame.drop.html\n",
        "2. https://scikit-learn.org/stable/modules/generated/sklearn.model_selection.train_test_split.html\n",
        "3. https://towardsdatascience.com/an-introduction-to-linear-regression-for-data-science-9056bbcdf675\n",
        "4. https://scikit-learn.org/stable/modules/generated/sklearn.metrics.r2_score.html\n"
      ],
      "metadata": {
        "id": "0zgznwf2sz0j"
      }
    },
    {
      "cell_type": "markdown",
      "source": [
        "**Q3. Drop the unnecessary columns from the dataset based on your correlation analysis to avoid multicollinearity.**"
      ],
      "metadata": {
        "id": "CTxYmFDbs8pq"
      }
    },
    {
      "cell_type": "code",
      "source": [
        "corr_matrix = df.corr().abs()\n",
        "\n",
        "upper = corr_matrix.where(np.triu(np.ones(corr_matrix.shape), k=1).astype(np.bool))\n",
        "\n",
        "#Find features with correlation>0.7 and drop them\n",
        "to_drop = [column for column in upper.columns if any(upper[column] > 0.7)]\n",
        "df.drop(to_drop, axis=1, inplace=True)\n",
        "df\n",
        "#Here, Body Mass Index is alone dropped as it had a correlation of 0.9 with weight"
      ],
      "metadata": {
        "id": "cYO0YKuVtA4W",
        "colab": {
          "base_uri": "https://localhost:8080/",
          "height": 557
        },
        "outputId": "3bb827a6-82fc-43c0-ddc0-e719d4d51e38"
      },
      "execution_count": null,
      "outputs": [
        {
          "output_type": "stream",
          "name": "stderr",
          "text": [
            "/usr/local/lib/python3.7/dist-packages/ipykernel_launcher.py:4: DeprecationWarning: `np.bool` is a deprecated alias for the builtin `bool`. To silence this warning, use `bool` by itself. Doing this will not modify any behavior and is safe. If you specifically wanted the numpy scalar type, use `np.bool_` here.\n",
            "Deprecated in NumPy 1.20; for more details and guidance: https://numpy.org/devdocs/release/1.20.0-notes.html#deprecations\n",
            "  after removing the cwd from sys.path.\n"
          ]
        },
        {
          "output_type": "execute_result",
          "data": {
            "text/plain": [
              "     ID  Month of absence  Day of the week Seasons  Transportation expense  \\\n",
              "0    11                 7                3       1                     289   \n",
              "1    36                 7                3       1                     118   \n",
              "2     3                 7                4       1                     179   \n",
              "3     7                 7                5       1                     279   \n",
              "4    11                 7                5       1                     289   \n",
              "..   ..               ...              ...     ...                     ...   \n",
              "735  11                 7                3       1                     289   \n",
              "736   1                 7                3       1                     235   \n",
              "737   4                 0                3       1                     118   \n",
              "738   8                 0                4       2                     231   \n",
              "739  35                 0                6       3                     179   \n",
              "\n",
              "     Distance from Residence to College  Weight  Height  \\\n",
              "0                                  36.0      90     172   \n",
              "1                                  13.0      98     178   \n",
              "2                                  51.0      89     170   \n",
              "3                                   5.0      68     168   \n",
              "4                                  36.0      90     172   \n",
              "..                                  ...     ...     ...   \n",
              "735                                36.0      90     172   \n",
              "736                                11.0      88     172   \n",
              "737                                14.0      98     170   \n",
              "738                                35.0     100     170   \n",
              "739                                45.0      77     175   \n",
              "\n",
              "     Absenteeism time in hours  \n",
              "0                            4  \n",
              "1                            0  \n",
              "2                            2  \n",
              "3                            4  \n",
              "4                            2  \n",
              "..                         ...  \n",
              "735                          8  \n",
              "736                          4  \n",
              "737                          0  \n",
              "738                          0  \n",
              "739                          0  \n",
              "\n",
              "[740 rows x 9 columns]"
            ],
            "text/html": [
              "\n",
              "  <div id=\"df-d868466c-18f7-4194-be8e-b101e19e543d\">\n",
              "    <div class=\"colab-df-container\">\n",
              "      <div>\n",
              "<style scoped>\n",
              "    .dataframe tbody tr th:only-of-type {\n",
              "        vertical-align: middle;\n",
              "    }\n",
              "\n",
              "    .dataframe tbody tr th {\n",
              "        vertical-align: top;\n",
              "    }\n",
              "\n",
              "    .dataframe thead th {\n",
              "        text-align: right;\n",
              "    }\n",
              "</style>\n",
              "<table border=\"1\" class=\"dataframe\">\n",
              "  <thead>\n",
              "    <tr style=\"text-align: right;\">\n",
              "      <th></th>\n",
              "      <th>ID</th>\n",
              "      <th>Month of absence</th>\n",
              "      <th>Day of the week</th>\n",
              "      <th>Seasons</th>\n",
              "      <th>Transportation expense</th>\n",
              "      <th>Distance from Residence to College</th>\n",
              "      <th>Weight</th>\n",
              "      <th>Height</th>\n",
              "      <th>Absenteeism time in hours</th>\n",
              "    </tr>\n",
              "  </thead>\n",
              "  <tbody>\n",
              "    <tr>\n",
              "      <th>0</th>\n",
              "      <td>11</td>\n",
              "      <td>7</td>\n",
              "      <td>3</td>\n",
              "      <td>1</td>\n",
              "      <td>289</td>\n",
              "      <td>36.0</td>\n",
              "      <td>90</td>\n",
              "      <td>172</td>\n",
              "      <td>4</td>\n",
              "    </tr>\n",
              "    <tr>\n",
              "      <th>1</th>\n",
              "      <td>36</td>\n",
              "      <td>7</td>\n",
              "      <td>3</td>\n",
              "      <td>1</td>\n",
              "      <td>118</td>\n",
              "      <td>13.0</td>\n",
              "      <td>98</td>\n",
              "      <td>178</td>\n",
              "      <td>0</td>\n",
              "    </tr>\n",
              "    <tr>\n",
              "      <th>2</th>\n",
              "      <td>3</td>\n",
              "      <td>7</td>\n",
              "      <td>4</td>\n",
              "      <td>1</td>\n",
              "      <td>179</td>\n",
              "      <td>51.0</td>\n",
              "      <td>89</td>\n",
              "      <td>170</td>\n",
              "      <td>2</td>\n",
              "    </tr>\n",
              "    <tr>\n",
              "      <th>3</th>\n",
              "      <td>7</td>\n",
              "      <td>7</td>\n",
              "      <td>5</td>\n",
              "      <td>1</td>\n",
              "      <td>279</td>\n",
              "      <td>5.0</td>\n",
              "      <td>68</td>\n",
              "      <td>168</td>\n",
              "      <td>4</td>\n",
              "    </tr>\n",
              "    <tr>\n",
              "      <th>4</th>\n",
              "      <td>11</td>\n",
              "      <td>7</td>\n",
              "      <td>5</td>\n",
              "      <td>1</td>\n",
              "      <td>289</td>\n",
              "      <td>36.0</td>\n",
              "      <td>90</td>\n",
              "      <td>172</td>\n",
              "      <td>2</td>\n",
              "    </tr>\n",
              "    <tr>\n",
              "      <th>...</th>\n",
              "      <td>...</td>\n",
              "      <td>...</td>\n",
              "      <td>...</td>\n",
              "      <td>...</td>\n",
              "      <td>...</td>\n",
              "      <td>...</td>\n",
              "      <td>...</td>\n",
              "      <td>...</td>\n",
              "      <td>...</td>\n",
              "    </tr>\n",
              "    <tr>\n",
              "      <th>735</th>\n",
              "      <td>11</td>\n",
              "      <td>7</td>\n",
              "      <td>3</td>\n",
              "      <td>1</td>\n",
              "      <td>289</td>\n",
              "      <td>36.0</td>\n",
              "      <td>90</td>\n",
              "      <td>172</td>\n",
              "      <td>8</td>\n",
              "    </tr>\n",
              "    <tr>\n",
              "      <th>736</th>\n",
              "      <td>1</td>\n",
              "      <td>7</td>\n",
              "      <td>3</td>\n",
              "      <td>1</td>\n",
              "      <td>235</td>\n",
              "      <td>11.0</td>\n",
              "      <td>88</td>\n",
              "      <td>172</td>\n",
              "      <td>4</td>\n",
              "    </tr>\n",
              "    <tr>\n",
              "      <th>737</th>\n",
              "      <td>4</td>\n",
              "      <td>0</td>\n",
              "      <td>3</td>\n",
              "      <td>1</td>\n",
              "      <td>118</td>\n",
              "      <td>14.0</td>\n",
              "      <td>98</td>\n",
              "      <td>170</td>\n",
              "      <td>0</td>\n",
              "    </tr>\n",
              "    <tr>\n",
              "      <th>738</th>\n",
              "      <td>8</td>\n",
              "      <td>0</td>\n",
              "      <td>4</td>\n",
              "      <td>2</td>\n",
              "      <td>231</td>\n",
              "      <td>35.0</td>\n",
              "      <td>100</td>\n",
              "      <td>170</td>\n",
              "      <td>0</td>\n",
              "    </tr>\n",
              "    <tr>\n",
              "      <th>739</th>\n",
              "      <td>35</td>\n",
              "      <td>0</td>\n",
              "      <td>6</td>\n",
              "      <td>3</td>\n",
              "      <td>179</td>\n",
              "      <td>45.0</td>\n",
              "      <td>77</td>\n",
              "      <td>175</td>\n",
              "      <td>0</td>\n",
              "    </tr>\n",
              "  </tbody>\n",
              "</table>\n",
              "<p>740 rows × 9 columns</p>\n",
              "</div>\n",
              "      <button class=\"colab-df-convert\" onclick=\"convertToInteractive('df-d868466c-18f7-4194-be8e-b101e19e543d')\"\n",
              "              title=\"Convert this dataframe to an interactive table.\"\n",
              "              style=\"display:none;\">\n",
              "        \n",
              "  <svg xmlns=\"http://www.w3.org/2000/svg\" height=\"24px\"viewBox=\"0 0 24 24\"\n",
              "       width=\"24px\">\n",
              "    <path d=\"M0 0h24v24H0V0z\" fill=\"none\"/>\n",
              "    <path d=\"M18.56 5.44l.94 2.06.94-2.06 2.06-.94-2.06-.94-.94-2.06-.94 2.06-2.06.94zm-11 1L8.5 8.5l.94-2.06 2.06-.94-2.06-.94L8.5 2.5l-.94 2.06-2.06.94zm10 10l.94 2.06.94-2.06 2.06-.94-2.06-.94-.94-2.06-.94 2.06-2.06.94z\"/><path d=\"M17.41 7.96l-1.37-1.37c-.4-.4-.92-.59-1.43-.59-.52 0-1.04.2-1.43.59L10.3 9.45l-7.72 7.72c-.78.78-.78 2.05 0 2.83L4 21.41c.39.39.9.59 1.41.59.51 0 1.02-.2 1.41-.59l7.78-7.78 2.81-2.81c.8-.78.8-2.07 0-2.86zM5.41 20L4 18.59l7.72-7.72 1.47 1.35L5.41 20z\"/>\n",
              "  </svg>\n",
              "      </button>\n",
              "      \n",
              "  <style>\n",
              "    .colab-df-container {\n",
              "      display:flex;\n",
              "      flex-wrap:wrap;\n",
              "      gap: 12px;\n",
              "    }\n",
              "\n",
              "    .colab-df-convert {\n",
              "      background-color: #E8F0FE;\n",
              "      border: none;\n",
              "      border-radius: 50%;\n",
              "      cursor: pointer;\n",
              "      display: none;\n",
              "      fill: #1967D2;\n",
              "      height: 32px;\n",
              "      padding: 0 0 0 0;\n",
              "      width: 32px;\n",
              "    }\n",
              "\n",
              "    .colab-df-convert:hover {\n",
              "      background-color: #E2EBFA;\n",
              "      box-shadow: 0px 1px 2px rgba(60, 64, 67, 0.3), 0px 1px 3px 1px rgba(60, 64, 67, 0.15);\n",
              "      fill: #174EA6;\n",
              "    }\n",
              "\n",
              "    [theme=dark] .colab-df-convert {\n",
              "      background-color: #3B4455;\n",
              "      fill: #D2E3FC;\n",
              "    }\n",
              "\n",
              "    [theme=dark] .colab-df-convert:hover {\n",
              "      background-color: #434B5C;\n",
              "      box-shadow: 0px 1px 3px 1px rgba(0, 0, 0, 0.15);\n",
              "      filter: drop-shadow(0px 1px 2px rgba(0, 0, 0, 0.3));\n",
              "      fill: #FFFFFF;\n",
              "    }\n",
              "  </style>\n",
              "\n",
              "      <script>\n",
              "        const buttonEl =\n",
              "          document.querySelector('#df-d868466c-18f7-4194-be8e-b101e19e543d button.colab-df-convert');\n",
              "        buttonEl.style.display =\n",
              "          google.colab.kernel.accessAllowed ? 'block' : 'none';\n",
              "\n",
              "        async function convertToInteractive(key) {\n",
              "          const element = document.querySelector('#df-d868466c-18f7-4194-be8e-b101e19e543d');\n",
              "          const dataTable =\n",
              "            await google.colab.kernel.invokeFunction('convertToInteractive',\n",
              "                                                     [key], {});\n",
              "          if (!dataTable) return;\n",
              "\n",
              "          const docLinkHtml = 'Like what you see? Visit the ' +\n",
              "            '<a target=\"_blank\" href=https://colab.research.google.com/notebooks/data_table.ipynb>data table notebook</a>'\n",
              "            + ' to learn more about interactive tables.';\n",
              "          element.innerHTML = '';\n",
              "          dataTable['output_type'] = 'display_data';\n",
              "          await google.colab.output.renderOutput(dataTable, element);\n",
              "          const docLink = document.createElement('div');\n",
              "          docLink.innerHTML = docLinkHtml;\n",
              "          element.appendChild(docLink);\n",
              "        }\n",
              "      </script>\n",
              "    </div>\n",
              "  </div>\n",
              "  "
            ]
          },
          "metadata": {},
          "execution_count": 96
        }
      ]
    },
    {
      "cell_type": "markdown",
      "source": [
        "\n",
        "**Q3. Split the dataset into Training and Testing data**                    \n",
        "\n",
        "Hint: X- Matrix of necessary features & y- Matrix of the dependent variable\n",
        "\n",
        "\n",
        "\n",
        "\n",
        "\n",
        "\n"
      ],
      "metadata": {
        "id": "dizhgWZJtTrZ"
      }
    },
    {
      "cell_type": "code",
      "source": [
        "from sklearn.model_selection import train_test_split\n",
        "X=df[['Height']]\n",
        "x_train, x_test= train_test_split(X)\n",
        "print(X) #To see how the matrix of features looks like."
      ],
      "metadata": {
        "id": "UHwH8luvtHrQ",
        "colab": {
          "base_uri": "https://localhost:8080/"
        },
        "outputId": "dc585ddf-5025-4704-e2c8-18d1c6100cca"
      },
      "execution_count": null,
      "outputs": [
        {
          "output_type": "stream",
          "name": "stdout",
          "text": [
            "     Height\n",
            "0       172\n",
            "1       178\n",
            "2       170\n",
            "3       168\n",
            "4       172\n",
            "..      ...\n",
            "735     172\n",
            "736     172\n",
            "737     170\n",
            "738     170\n",
            "739     175\n",
            "\n",
            "[740 rows x 1 columns]\n"
          ]
        }
      ]
    },
    {
      "cell_type": "code",
      "source": [
        "y=df['Absenteeism time in hours']\n",
        "y_train, y_test = train_test_split(y)\n",
        "print(y) #To see how the matrix of the dependent variable looks like."
      ],
      "metadata": {
        "id": "CO9H_IO3tI2L",
        "colab": {
          "base_uri": "https://localhost:8080/"
        },
        "outputId": "ce6e43a3-35ed-4481-b033-b82c9bfc4c16"
      },
      "execution_count": null,
      "outputs": [
        {
          "output_type": "stream",
          "name": "stdout",
          "text": [
            "0      4\n",
            "1      0\n",
            "2      2\n",
            "3      4\n",
            "4      2\n",
            "      ..\n",
            "735    8\n",
            "736    4\n",
            "737    0\n",
            "738    0\n",
            "739    0\n",
            "Name: Absenteeism time in hours, Length: 740, dtype: int64\n"
          ]
        }
      ]
    },
    {
      "cell_type": "code",
      "source": [
        "x_train, x_test, y_train, y_test = train_test_split(X, y)\n",
        "x_train, x_test, y_train, y_test"
      ],
      "metadata": {
        "id": "WTVwGQZqtWnU",
        "colab": {
          "base_uri": "https://localhost:8080/"
        },
        "outputId": "ef334aaf-2fd5-4912-ee57-8789324c329f"
      },
      "execution_count": null,
      "outputs": [
        {
          "output_type": "execute_result",
          "data": {
            "text/plain": [
              "(     Height\n",
              " 90      169\n",
              " 536     172\n",
              " 198     172\n",
              " 144     178\n",
              " 270     170\n",
              " ..      ...\n",
              " 285     167\n",
              " 68      172\n",
              " 129     171\n",
              " 83      170\n",
              " 289     172\n",
              " \n",
              " [555 rows x 1 columns],      Height\n",
              " 362     196\n",
              " 374     170\n",
              " 183     169\n",
              " 338     170\n",
              " 161     171\n",
              " ..      ...\n",
              " 253     185\n",
              " 690     174\n",
              " 650     170\n",
              " 678     167\n",
              " 549     172\n",
              " \n",
              " [185 rows x 1 columns], 90     3\n",
              " 536    8\n",
              " 198    8\n",
              " 144    8\n",
              " 270    8\n",
              "       ..\n",
              " 285    0\n",
              " 68     3\n",
              " 129    8\n",
              " 83     8\n",
              " 289    8\n",
              " Name: Absenteeism time in hours, Length: 555, dtype: int64, 362    4\n",
              " 374    3\n",
              " 183    1\n",
              " 338    1\n",
              " 161    8\n",
              "       ..\n",
              " 253    3\n",
              " 690    0\n",
              " 650    3\n",
              " 678    8\n",
              " 549    0\n",
              " Name: Absenteeism time in hours, Length: 185, dtype: int64)"
            ]
          },
          "metadata": {},
          "execution_count": 112
        }
      ]
    },
    {
      "cell_type": "markdown",
      "source": [
        "**Q4. Train the data using LinearRegression**\n"
      ],
      "metadata": {
        "id": "AYTWQmm-tXGV"
      }
    },
    {
      "cell_type": "code",
      "source": [
        "from sklearn.linear_model import LinearRegression\n",
        "lr = LinearRegression() \n",
        "lr.fit(x_train, y_train)\n",
        "print(lr.intercept_) \n",
        "print(lr.coef_) \n"
      ],
      "metadata": {
        "id": "yEVTMhI_td5p",
        "colab": {
          "base_uri": "https://localhost:8080/"
        },
        "outputId": "e96c31e5-82f1-48ae-e415-d5c7c4c467ba"
      },
      "execution_count": null,
      "outputs": [
        {
          "output_type": "stream",
          "name": "stdout",
          "text": [
            "-48.9025861153243\n",
            "[0.32521484]\n"
          ]
        }
      ]
    },
    {
      "cell_type": "code",
      "source": [
        "y_pred=lr.coef_*x_test + lr.intercept_\n",
        "y_pred\n",
        " #Find the test values as predicted by the model and save it in a variable called y_pred"
      ],
      "metadata": {
        "id": "rjOn-6q_teWT",
        "colab": {
          "base_uri": "https://localhost:8080/",
          "height": 424
        },
        "outputId": "1fdba6ac-52af-4c55-b99a-40782fa640f4"
      },
      "execution_count": null,
      "outputs": [
        {
          "output_type": "execute_result",
          "data": {
            "text/plain": [
              "        Height\n",
              "362  14.839522\n",
              "374   6.383936\n",
              "183   6.058721\n",
              "338   6.383936\n",
              "161   6.709151\n",
              "..         ...\n",
              "253  11.262159\n",
              "690   7.684796\n",
              "650   6.383936\n",
              "678   5.408292\n",
              "549   7.034366\n",
              "\n",
              "[185 rows x 1 columns]"
            ],
            "text/html": [
              "\n",
              "  <div id=\"df-b9826aae-6989-4021-8aa1-d818e4e608c4\">\n",
              "    <div class=\"colab-df-container\">\n",
              "      <div>\n",
              "<style scoped>\n",
              "    .dataframe tbody tr th:only-of-type {\n",
              "        vertical-align: middle;\n",
              "    }\n",
              "\n",
              "    .dataframe tbody tr th {\n",
              "        vertical-align: top;\n",
              "    }\n",
              "\n",
              "    .dataframe thead th {\n",
              "        text-align: right;\n",
              "    }\n",
              "</style>\n",
              "<table border=\"1\" class=\"dataframe\">\n",
              "  <thead>\n",
              "    <tr style=\"text-align: right;\">\n",
              "      <th></th>\n",
              "      <th>Height</th>\n",
              "    </tr>\n",
              "  </thead>\n",
              "  <tbody>\n",
              "    <tr>\n",
              "      <th>362</th>\n",
              "      <td>14.839522</td>\n",
              "    </tr>\n",
              "    <tr>\n",
              "      <th>374</th>\n",
              "      <td>6.383936</td>\n",
              "    </tr>\n",
              "    <tr>\n",
              "      <th>183</th>\n",
              "      <td>6.058721</td>\n",
              "    </tr>\n",
              "    <tr>\n",
              "      <th>338</th>\n",
              "      <td>6.383936</td>\n",
              "    </tr>\n",
              "    <tr>\n",
              "      <th>161</th>\n",
              "      <td>6.709151</td>\n",
              "    </tr>\n",
              "    <tr>\n",
              "      <th>...</th>\n",
              "      <td>...</td>\n",
              "    </tr>\n",
              "    <tr>\n",
              "      <th>253</th>\n",
              "      <td>11.262159</td>\n",
              "    </tr>\n",
              "    <tr>\n",
              "      <th>690</th>\n",
              "      <td>7.684796</td>\n",
              "    </tr>\n",
              "    <tr>\n",
              "      <th>650</th>\n",
              "      <td>6.383936</td>\n",
              "    </tr>\n",
              "    <tr>\n",
              "      <th>678</th>\n",
              "      <td>5.408292</td>\n",
              "    </tr>\n",
              "    <tr>\n",
              "      <th>549</th>\n",
              "      <td>7.034366</td>\n",
              "    </tr>\n",
              "  </tbody>\n",
              "</table>\n",
              "<p>185 rows × 1 columns</p>\n",
              "</div>\n",
              "      <button class=\"colab-df-convert\" onclick=\"convertToInteractive('df-b9826aae-6989-4021-8aa1-d818e4e608c4')\"\n",
              "              title=\"Convert this dataframe to an interactive table.\"\n",
              "              style=\"display:none;\">\n",
              "        \n",
              "  <svg xmlns=\"http://www.w3.org/2000/svg\" height=\"24px\"viewBox=\"0 0 24 24\"\n",
              "       width=\"24px\">\n",
              "    <path d=\"M0 0h24v24H0V0z\" fill=\"none\"/>\n",
              "    <path d=\"M18.56 5.44l.94 2.06.94-2.06 2.06-.94-2.06-.94-.94-2.06-.94 2.06-2.06.94zm-11 1L8.5 8.5l.94-2.06 2.06-.94-2.06-.94L8.5 2.5l-.94 2.06-2.06.94zm10 10l.94 2.06.94-2.06 2.06-.94-2.06-.94-.94-2.06-.94 2.06-2.06.94z\"/><path d=\"M17.41 7.96l-1.37-1.37c-.4-.4-.92-.59-1.43-.59-.52 0-1.04.2-1.43.59L10.3 9.45l-7.72 7.72c-.78.78-.78 2.05 0 2.83L4 21.41c.39.39.9.59 1.41.59.51 0 1.02-.2 1.41-.59l7.78-7.78 2.81-2.81c.8-.78.8-2.07 0-2.86zM5.41 20L4 18.59l7.72-7.72 1.47 1.35L5.41 20z\"/>\n",
              "  </svg>\n",
              "      </button>\n",
              "      \n",
              "  <style>\n",
              "    .colab-df-container {\n",
              "      display:flex;\n",
              "      flex-wrap:wrap;\n",
              "      gap: 12px;\n",
              "    }\n",
              "\n",
              "    .colab-df-convert {\n",
              "      background-color: #E8F0FE;\n",
              "      border: none;\n",
              "      border-radius: 50%;\n",
              "      cursor: pointer;\n",
              "      display: none;\n",
              "      fill: #1967D2;\n",
              "      height: 32px;\n",
              "      padding: 0 0 0 0;\n",
              "      width: 32px;\n",
              "    }\n",
              "\n",
              "    .colab-df-convert:hover {\n",
              "      background-color: #E2EBFA;\n",
              "      box-shadow: 0px 1px 2px rgba(60, 64, 67, 0.3), 0px 1px 3px 1px rgba(60, 64, 67, 0.15);\n",
              "      fill: #174EA6;\n",
              "    }\n",
              "\n",
              "    [theme=dark] .colab-df-convert {\n",
              "      background-color: #3B4455;\n",
              "      fill: #D2E3FC;\n",
              "    }\n",
              "\n",
              "    [theme=dark] .colab-df-convert:hover {\n",
              "      background-color: #434B5C;\n",
              "      box-shadow: 0px 1px 3px 1px rgba(0, 0, 0, 0.15);\n",
              "      filter: drop-shadow(0px 1px 2px rgba(0, 0, 0, 0.3));\n",
              "      fill: #FFFFFF;\n",
              "    }\n",
              "  </style>\n",
              "\n",
              "      <script>\n",
              "        const buttonEl =\n",
              "          document.querySelector('#df-b9826aae-6989-4021-8aa1-d818e4e608c4 button.colab-df-convert');\n",
              "        buttonEl.style.display =\n",
              "          google.colab.kernel.accessAllowed ? 'block' : 'none';\n",
              "\n",
              "        async function convertToInteractive(key) {\n",
              "          const element = document.querySelector('#df-b9826aae-6989-4021-8aa1-d818e4e608c4');\n",
              "          const dataTable =\n",
              "            await google.colab.kernel.invokeFunction('convertToInteractive',\n",
              "                                                     [key], {});\n",
              "          if (!dataTable) return;\n",
              "\n",
              "          const docLinkHtml = 'Like what you see? Visit the ' +\n",
              "            '<a target=\"_blank\" href=https://colab.research.google.com/notebooks/data_table.ipynb>data table notebook</a>'\n",
              "            + ' to learn more about interactive tables.';\n",
              "          element.innerHTML = '';\n",
              "          dataTable['output_type'] = 'display_data';\n",
              "          await google.colab.output.renderOutput(dataTable, element);\n",
              "          const docLink = document.createElement('div');\n",
              "          docLink.innerHTML = docLinkHtml;\n",
              "          element.appendChild(docLink);\n",
              "        }\n",
              "      </script>\n",
              "    </div>\n",
              "  </div>\n",
              "  "
            ]
          },
          "metadata": {},
          "execution_count": 118
        }
      ]
    },
    {
      "cell_type": "markdown",
      "source": [
        "**Q5.Find the R2_Score of the model using sklearn**"
      ],
      "metadata": {
        "id": "LauGrrPFtXFM"
      }
    },
    {
      "cell_type": "code",
      "source": [
        "from sklearn.metrics import r2_score\n",
        "print(r2_score(y_test, y_pred))"
      ],
      "metadata": {
        "id": "je3LfAwotl5s",
        "colab": {
          "base_uri": "https://localhost:8080/"
        },
        "outputId": "81fcd88f-acec-4fe3-97b3-645f378c549c"
      },
      "execution_count": null,
      "outputs": [
        {
          "output_type": "stream",
          "name": "stdout",
          "text": [
            "0.02402437533570967\n"
          ]
        }
      ]
    },
    {
      "cell_type": "markdown",
      "source": [
        "How can we check our model's performance using the R2_score? Is there any way by which we could improve our model?"
      ],
      "metadata": {
        "id": "ugcbg3vutmTL"
      }
    }
  ]
}